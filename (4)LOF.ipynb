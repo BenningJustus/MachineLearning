{
 "cells": [
  {
   "cell_type": "code",
   "execution_count": 6,
   "metadata": {},
   "outputs": [],
   "source": [
    "# For plotting\n",
    "import matplotlib.pyplot as plt\n",
    "import pandas as pd\n",
    "import seaborn as sns\n",
    "# For matrix math\n",
    "import numpy as np\n",
    "# Plot style\n",
    "%matplotlib notebook\n",
    "# Set plot size in notebook\n",
    "plt.rcParams[\"figure.figsize\"] = (5, 5)"
   ]
  },
  {
   "cell_type": "code",
   "execution_count": 7,
   "metadata": {},
   "outputs": [
    {
     "data": {
      "text/html": [
       "<div>\n",
       "<style scoped>\n",
       "    .dataframe tbody tr th:only-of-type {\n",
       "        vertical-align: middle;\n",
       "    }\n",
       "\n",
       "    .dataframe tbody tr th {\n",
       "        vertical-align: top;\n",
       "    }\n",
       "\n",
       "    .dataframe thead th {\n",
       "        text-align: right;\n",
       "    }\n",
       "</style>\n",
       "<table border=\"1\" class=\"dataframe\">\n",
       "  <thead>\n",
       "    <tr style=\"text-align: right;\">\n",
       "      <th></th>\n",
       "      <th>ID</th>\n",
       "      <th>Clump Thickness</th>\n",
       "      <th>Cell Size</th>\n",
       "      <th>Cell Shape</th>\n",
       "      <th>Marginal Adhesion</th>\n",
       "      <th>Epithelial</th>\n",
       "      <th>Bare Nuclei</th>\n",
       "      <th>Bland Chromatin</th>\n",
       "      <th>Normal Nucleoli</th>\n",
       "      <th>Mitoses</th>\n",
       "      <th>Class(2 - benign 4 - malignant)</th>\n",
       "    </tr>\n",
       "  </thead>\n",
       "  <tbody>\n",
       "    <tr>\n",
       "      <th>0</th>\n",
       "      <td>1000025</td>\n",
       "      <td>5</td>\n",
       "      <td>1</td>\n",
       "      <td>1</td>\n",
       "      <td>1</td>\n",
       "      <td>2</td>\n",
       "      <td>1</td>\n",
       "      <td>3</td>\n",
       "      <td>1</td>\n",
       "      <td>1</td>\n",
       "      <td>2</td>\n",
       "    </tr>\n",
       "    <tr>\n",
       "      <th>1</th>\n",
       "      <td>1002945</td>\n",
       "      <td>5</td>\n",
       "      <td>4</td>\n",
       "      <td>4</td>\n",
       "      <td>5</td>\n",
       "      <td>7</td>\n",
       "      <td>10</td>\n",
       "      <td>3</td>\n",
       "      <td>2</td>\n",
       "      <td>1</td>\n",
       "      <td>2</td>\n",
       "    </tr>\n",
       "    <tr>\n",
       "      <th>2</th>\n",
       "      <td>1015425</td>\n",
       "      <td>3</td>\n",
       "      <td>1</td>\n",
       "      <td>1</td>\n",
       "      <td>1</td>\n",
       "      <td>2</td>\n",
       "      <td>2</td>\n",
       "      <td>3</td>\n",
       "      <td>1</td>\n",
       "      <td>1</td>\n",
       "      <td>2</td>\n",
       "    </tr>\n",
       "    <tr>\n",
       "      <th>3</th>\n",
       "      <td>1016277</td>\n",
       "      <td>6</td>\n",
       "      <td>8</td>\n",
       "      <td>8</td>\n",
       "      <td>1</td>\n",
       "      <td>3</td>\n",
       "      <td>4</td>\n",
       "      <td>3</td>\n",
       "      <td>7</td>\n",
       "      <td>1</td>\n",
       "      <td>2</td>\n",
       "    </tr>\n",
       "    <tr>\n",
       "      <th>4</th>\n",
       "      <td>1017023</td>\n",
       "      <td>4</td>\n",
       "      <td>1</td>\n",
       "      <td>1</td>\n",
       "      <td>3</td>\n",
       "      <td>2</td>\n",
       "      <td>1</td>\n",
       "      <td>3</td>\n",
       "      <td>1</td>\n",
       "      <td>1</td>\n",
       "      <td>2</td>\n",
       "    </tr>\n",
       "  </tbody>\n",
       "</table>\n",
       "</div>"
      ],
      "text/plain": [
       "        ID  Clump Thickness  Cell Size  Cell Shape  Marginal Adhesion  \\\n",
       "0  1000025                5          1           1                  1   \n",
       "1  1002945                5          4           4                  5   \n",
       "2  1015425                3          1           1                  1   \n",
       "3  1016277                6          8           8                  1   \n",
       "4  1017023                4          1           1                  3   \n",
       "\n",
       "   Epithelial Bare Nuclei  Bland Chromatin   Normal Nucleoli  Mitoses  \\\n",
       "0           2           1                 3                1        1   \n",
       "1           7          10                 3                2        1   \n",
       "2           2           2                 3                1        1   \n",
       "3           3           4                 3                7        1   \n",
       "4           2           1                 3                1        1   \n",
       "\n",
       "   Class(2 - benign 4 - malignant)  \n",
       "0                                2  \n",
       "1                                2  \n",
       "2                                2  \n",
       "3                                2  \n",
       "4                                2  "
      ]
     },
     "execution_count": 7,
     "metadata": {},
     "output_type": "execute_result"
    }
   ],
   "source": [
    "# Import a Dataset used for Novelty Detection\n",
    "\n",
    "### Source ###\n",
    "# https://archive.ics.uci.edu/ml/machine-learning-databases/breast-cancer-wisconsin/breast-cancer-wisconsin.names\n",
    "# University of Wisconsin Hospitals, Madison from Dr. William H. Wolberg\n",
    "# O. L. Mangasarian and W. H. Wolberg: \"Cancer diagnosis via linear programming\", SIAM News, Volume 23, Number 5, September 1990, pp 1 & 18.\n",
    "\n",
    "wbc = pd.read_csv(\"../2.Data/WBC_Minority.csv\")\n",
    "wbc.head(n=5)"
   ]
  },
  {
   "cell_type": "code",
   "execution_count": 8,
   "metadata": {},
   "outputs": [
    {
     "name": "stdout",
     "output_type": "stream",
     "text": [
      "(400, 8)\n",
      "(79, 8)\n",
      "(400,)\n",
      "(79,)\n",
      "[[1 3 1 2 2 5 3 2]\n",
      " [3 3 2 1 2 3 1 1]\n",
      " [1 1 1 1 2 1 1 1]\n",
      " [8 3 3 1 2 3 2 1]\n",
      " [1 1 1 1 4 1 1 1]]\n"
     ]
    }
   ],
   "source": [
    "# Create input data ndarray\n",
    "\n",
    "# Remove bare nuclei column due to incomplete data\n",
    "# Slice into test and training data\n",
    "X = np.append(wbc.values[:,1:6],wbc.values[:,7:10], axis=1)\n",
    "X_test = X[:79,:] # Polluted\n",
    "X = np.delete(X,np.s_[:79],0)\n",
    "# Slice labels into test and training data\n",
    "y = wbc.values[:,10]\n",
    "y_test = y[:79] # Polluted\n",
    "y = np.delete(y,np.s_[:79])\n",
    "print(X.shape)\n",
    "print(X_test.shape)\n",
    "print(y.shape)\n",
    "print(y_test.shape)\n",
    "print(X[:5,:])"
   ]
  },
  {
   "cell_type": "code",
   "execution_count": 9,
   "metadata": {},
   "outputs": [
    {
     "name": "stdout",
     "output_type": "stream",
     "text": [
      "(400, 400)\n",
      "[[0.         9.21954446 8.30662386 8.36660027 7.34846923]\n",
      " [9.21954446 0.         3.74165739 3.         3.        ]\n",
      " [8.30662386 3.74165739 0.         1.73205081 1.73205081]\n",
      " [8.36660027 3.         1.73205081 0.         1.41421356]\n",
      " [7.34846923 3.         1.73205081 1.41421356 0.        ]]\n"
     ]
    }
   ],
   "source": [
    "# Calculate distance matrix\n",
    "instances = X.shape[0]\n",
    "distance = np.zeros([instances, instances])\n",
    "print(distance.shape)\n",
    "\n",
    "for i in range(instances):\n",
    "    for j in range(instances):\n",
    "        distance[i,j] = np.linalg.norm(X[i,:] - X[j,:])\n",
    "        \n",
    "print(distance[10:15,10:15])"
   ]
  },
  {
   "cell_type": "code",
   "execution_count": 10,
   "metadata": {},
   "outputs": [
    {
     "name": "stdout",
     "output_type": "stream",
     "text": [
      "(400,)\n",
      "[8.         2.23606798 1.41421356 1.41421356 1.41421356]\n"
     ]
    }
   ],
   "source": [
    "# Calculate k-distance for each point (distance to k-th nearest neighbor)\n",
    "k = 50 \n",
    "k_dist = np.zeros([instances])\n",
    "\n",
    "for i in range(instances):\n",
    "    k_dist[i] = np.sort(distance[i,:])[k - 1]\n",
    "\n",
    "print(np.sort(distance[0,:]).shape)\n",
    "print(k_dist[10:15])"
   ]
  },
  {
   "cell_type": "code",
   "execution_count": 11,
   "metadata": {},
   "outputs": [
    {
     "name": "stdout",
     "output_type": "stream",
     "text": [
      "[[1. 0. 0. ... 0. 0. 0.]\n",
      " [0. 1. 0. ... 0. 0. 0.]\n",
      " [0. 0. 1. ... 0. 0. 0.]\n",
      " ...\n",
      " [0. 0. 0. ... 1. 0. 0.]\n",
      " [0. 0. 0. ... 0. 1. 0.]\n",
      " [0. 0. 0. ... 0. 0. 1.]]\n",
      "(400, 400)\n",
      "[[0. 0. 0. 0. 1.]\n",
      " [0. 0. 0. 0. 0.]\n",
      " [0. 0. 0. 0. 0.]\n",
      " [0. 0. 0. 0. 1.]\n",
      " [0. 0. 0. 1. 0.]]\n"
     ]
    }
   ],
   "source": [
    "# Assign k-distance neighborhoods\n",
    "# neighbors[i,j] = 1 iff point j is in the k-distance neighborhood of i\n",
    "# non-symmetrical!\n",
    "\n",
    "N_k = np.zeros([instances, instances])\n",
    "\n",
    "for i in range(instances):\n",
    "    for j in range(instances):\n",
    "        if distance[i,j] <= k_dist[i]:\n",
    "            N_k[i,j] = 1 \n",
    "            \n",
    "# A point is not the neighbor of itself:\n",
    "neighbors = N_k - np.eye(instances)\n",
    "\n",
    "print(np.eye(instances))\n",
    "print(neighbors.shape)\n",
    "print(neighbors[10:15,10:15])"
   ]
  },
  {
   "cell_type": "code",
   "execution_count": 12,
   "metadata": {},
   "outputs": [
    {
     "name": "stdout",
     "output_type": "stream",
     "text": [
      "[[0.         9.21954446 8.30662386 8.36660027 8.        ]\n",
      " [9.21954446 0.         3.74165739 3.         3.        ]\n",
      " [8.30662386 3.74165739 0.         1.73205081 1.73205081]\n",
      " [8.36660027 3.         1.73205081 0.         1.41421356]\n",
      " [7.34846923 3.         1.73205081 1.41421356 0.        ]]\n"
     ]
    }
   ],
   "source": [
    "# Calculate reachability distance for each point from each point\n",
    "# Motivation for this definition is numeric stability\n",
    "\n",
    "# Copy distance matrix\n",
    "r_dist = distance\n",
    "\n",
    "# Replace relevant entries for reachability-distance\n",
    "for i in range(instances):\n",
    "    for j in range(instances):\n",
    "        if i != j and r_dist[i,j] < k_dist[i]:\n",
    "            r_dist[i,j] = k_dist[i]\n",
    "            \n",
    "# Look at results\n",
    "print(r_dist[10:15,10:15])"
   ]
  },
  {
   "cell_type": "code",
   "execution_count": 13,
   "metadata": {},
   "outputs": [
    {
     "name": "stdout",
     "output_type": "stream",
     "text": [
      "[0.125      0.4472136  0.70710678 0.70710678 0.70710678]\n"
     ]
    }
   ],
   "source": [
    "# Calculate local reachability density\n",
    "lrd = np.zeros(instances)\n",
    "\n",
    "for i in range(instances):\n",
    "    lrd[i] = np.sum(neighbors[i,:]) / np.dot(r_dist[i,:],neighbors[i,:])\n",
    "    \n",
    "print(lrd[10:15])\n",
    "\n",
    "### Check for zero entries ###  \n",
    "for i in range(instances):\n",
    "    if np.dot(r_dist[i,:],neighbors[i,:]) == 0:\n",
    "        print(np.dot(r_dist[i,:],neighbors[i,:]))"
   ]
  },
  {
   "cell_type": "code",
   "execution_count": 14,
   "metadata": {},
   "outputs": [
    {
     "name": "stdout",
     "output_type": "stream",
     "text": [
      "[6.46138677 1.47171121 1.27182765 1.23842551 1.2787892 ]\n",
      "(400,)\n"
     ]
    }
   ],
   "source": [
    "# Calculate LOFs\n",
    "lof = np.zeros(instances)\n",
    "\n",
    "for i in range(instances):\n",
    "    lof[i] = (np.dot(lrd,neighbors[i,:])/(np.sum(neighbors[i,:]))) / lrd[i]\n",
    "                       \n",
    "print(lof[10:15])\n",
    "print(lof.shape)"
   ]
  },
  {
   "cell_type": "code",
   "execution_count": 15,
   "metadata": {},
   "outputs": [],
   "source": [
    "# We now have LOF Data for every training instance\n",
    "# Use it to classify test samples\n",
    "\n",
    "def LOF(new_point):\n",
    "    # Calculate distance to every other point\n",
    "    position = np.empty(instances)\n",
    "    for i in range(instances):\n",
    "        position[i] = np.linalg.norm(new_point-X[i,:])\n",
    "\n",
    "    # Calculate k-distance\n",
    "    k_dist_new = np.sort(position)[k - 1]\n",
    "\n",
    "    # Define Neighborhood\n",
    "    N_new = np.zeros(instances)\n",
    "    for i in range(instances):\n",
    "        if position[i] <= k_dist_new:\n",
    "                N_new[i] = 1 \n",
    "\n",
    "    # Define reachability distance\n",
    "    r_new = position\n",
    "    for i in range(instances):\n",
    "        if r_new[i] < k_dist_new:\n",
    "            r_new[i] = k_dist_new\n",
    "\n",
    "    # With this calculate lrd(new_point)\n",
    "    lrd_new = np.sum(N_new)/np.dot(r_new,N_new)\n",
    "\n",
    "    # Use known np.dot(lof(test), Neighborhood) to calculate lof(new_point)\n",
    "    lof_new = (np.dot(N_new,lrd) / lrd_new) / np.sum(N_new)\n",
    "    return(lof_new)"
   ]
  },
  {
   "cell_type": "code",
   "execution_count": 16,
   "metadata": {},
   "outputs": [],
   "source": [
    "# Calculate LOF values for test set\n",
    "lof_values = np.empty(X_test.shape[0])\n",
    "for t in range(X_test.shape[0]):\n",
    "    lof_values[t] = LOF(X_test[t])"
   ]
  },
  {
   "cell_type": "code",
   "execution_count": 17,
   "metadata": {},
   "outputs": [
    {
     "name": "stdout",
     "output_type": "stream",
     "text": [
      "Confusion Matrix:\n",
      " 50 2 \n",
      " 8 19\n"
     ]
    }
   ],
   "source": [
    "# Assess results\n",
    "cutoff = 2.25\n",
    "\n",
    "# Generate confusion matrix:\n",
    "tp = 0\n",
    "fn = 0\n",
    "tn = 0\n",
    "fp = 0\n",
    "results = np.empty((X_test.shape[0],1),dtype='object')\n",
    "\n",
    "for i in range(X_test.shape[0]):\n",
    "    pdfvalue = lof_values[i]\n",
    "    \n",
    "    if np.isin(i,np.where(y_test==2)) and pdfvalue < cutoff:\n",
    "        tp = tp + 1\n",
    "        results[i] = \"True Positive\"\n",
    "    if np.isin(i,np.where(y_test==2)) and pdfvalue >= cutoff:\n",
    "        fn = fn + 1\n",
    "        results[i] = \"False Negative\"\n",
    "    if np.isin(i,np.where(y_test==4)) and pdfvalue >= cutoff:\n",
    "        tn = tn + 1\n",
    "        results[i] = \"True Negative\"\n",
    "    if np.isin(i,np.where(y_test==4)) and pdfvalue < cutoff:\n",
    "        fp = fp + 1\n",
    "        results[i] = \"False Positive\"\n",
    "\n",
    "print(\"Confusion Matrix:\\n\",tp,fp,\"\\n\",fn,tn)"
   ]
  },
  {
   "cell_type": "code",
   "execution_count": 18,
   "metadata": {},
   "outputs": [
    {
     "name": "stdout",
     "output_type": "stream",
     "text": [
      "0.9090909090909091\n"
     ]
    }
   ],
   "source": [
    "# F1 Score\n",
    "f1 = (2*tp)/(2*tp+fp+fn)\n",
    "print(f1)"
   ]
  }
 ],
 "metadata": {
  "kernelspec": {
   "display_name": "Python [conda env:Python3]",
   "language": "python",
   "name": "conda-env-Python3-py"
  },
  "language_info": {
   "codemirror_mode": {
    "name": "ipython",
    "version": 3
   },
   "file_extension": ".py",
   "mimetype": "text/x-python",
   "name": "python",
   "nbconvert_exporter": "python",
   "pygments_lexer": "ipython3",
   "version": "3.6.6"
  }
 },
 "nbformat": 4,
 "nbformat_minor": 2
}
